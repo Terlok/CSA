{
 "cells": [
  {
   "cell_type": "code",
   "execution_count": 10,
   "metadata": {},
   "outputs": [],
   "source": [
    "a = [8, 5, 3]\n",
    "c1 = 20\n",
    "c2 = 6"
   ]
  },
  {
   "cell_type": "code",
   "execution_count": 11,
   "metadata": {},
   "outputs": [
    {
     "name": "stdout",
     "output_type": "stream",
     "text": [
      "AX:10, BX:40, CX:14, DX:7\n"
     ]
    }
   ],
   "source": [
    "AX = a[0] + a[1] - a[2]\n",
    "BX = a[0] * a[1]\n",
    "CX = c1 - c2\n",
    "DX = ((c1 & a[1]) ^ a[2])\n",
    "print(f'AX:{AX}, BX:{BX}, CX:{CX}, DX:{DX}')"
   ]
  },
  {
   "cell_type": "code",
   "execution_count": 12,
   "metadata": {},
   "outputs": [
    {
     "name": "stdout",
     "output_type": "stream",
     "text": [
      "BX:-100\n"
     ]
    }
   ],
   "source": [
    "while CX != 0:\n",
    "    CX -= 1\n",
    "    BX -= AX\n",
    "\n",
    "print(f'BX:{BX}')"
   ]
  }
 ],
 "metadata": {
  "kernelspec": {
   "display_name": "Python 3",
   "language": "python",
   "name": "python3"
  },
  "language_info": {
   "codemirror_mode": {
    "name": "ipython",
    "version": 3
   },
   "file_extension": ".py",
   "mimetype": "text/x-python",
   "name": "python",
   "nbconvert_exporter": "python",
   "pygments_lexer": "ipython3",
   "version": "3.12.6"
  }
 },
 "nbformat": 4,
 "nbformat_minor": 2
}
